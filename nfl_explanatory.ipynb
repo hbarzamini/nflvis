{
  "nbformat": 4,
  "nbformat_minor": 0,
  "metadata": {
    "colab": {
      "provenance": [],
      "collapsed_sections": []
    },
    "kernelspec": {
      "name": "python3",
      "display_name": "Python 3"
    },
    "language_info": {
      "name": "python"
    }
  },
  "cells": [
    {
      "cell_type": "code",
      "source": [
        "from google.colab import drive\n",
        "drive.mount('/content/drive')"
      ],
      "metadata": {
        "colab": {
          "base_uri": "https://localhost:8080/"
        },
        "id": "N-f3BP8L-32T",
        "outputId": "2a6e6d2f-bacc-4095-9d58-b55e4a9463ab"
      },
      "execution_count": 1,
      "outputs": [
        {
          "output_type": "stream",
          "name": "stdout",
          "text": [
            "Mounted at /content/drive\n"
          ]
        }
      ]
    },
    {
      "cell_type": "code",
      "source": [
        "import matplotlib.pyplot as pl\n",
        "import pandas as pd\n",
        "import numpy as np\n",
        "import seaborn as sns\n",
        "import math"
      ],
      "metadata": {
        "id": "x-SrpUBJFAW3"
      },
      "execution_count": 2,
      "outputs": []
    },
    {
      "cell_type": "code",
      "source": [
        "! ls /content/drive/MyDrive/vis_data/"
      ],
      "metadata": {
        "colab": {
          "base_uri": "https://localhost:8080/"
        },
        "id": "Xo5crxu6FDz5",
        "outputId": "8ccc3026-a749-480e-b545-fce0970a38a8"
      },
      "execution_count": 3,
      "outputs": [
        {
          "output_type": "stream",
          "name": "stdout",
          "text": [
            "games.csv\t\t plays.csv.zip\t       tracking2020.csv.zip\n",
            "PFFScoutingData.csv.zip  tracking2018.csv.zip\n",
            "players.csv\t\t tracking2019.csv.zip\n"
          ]
        }
      ]
    },
    {
      "cell_type": "code",
      "source": [
        "! cp /content/drive/MyDrive/vis_data/tracking2018.csv.zip .\n",
        "! cp /content/drive/MyDrive/vis_data/tracking2019.csv.zip .\n",
        "! cp /content/drive/MyDrive/vis_data/tracking2020.csv.zip .\n",
        "! unzip tracking2018.csv.zip\n",
        "! unzip tracking2019.csv.zip\n",
        "! unzip tracking2020.csv.zip"
      ],
      "metadata": {
        "colab": {
          "base_uri": "https://localhost:8080/"
        },
        "id": "rz0EAyu1FECM",
        "outputId": "589c92c4-b233-4be4-aae3-fbdcc96857c4"
      },
      "execution_count": 4,
      "outputs": [
        {
          "output_type": "stream",
          "name": "stdout",
          "text": [
            "Archive:  tracking2018.csv.zip\n",
            "  inflating: tracking2018.csv        \n",
            "Archive:  tracking2019.csv.zip\n",
            "  inflating: tracking2019.csv        \n",
            "Archive:  tracking2020.csv.zip\n",
            "  inflating: tracking2020.csv        \n"
          ]
        }
      ]
    },
    {
      "cell_type": "code",
      "source": [
        "! cp /content/drive/MyDrive/vis_data/plays.csv.zip . \n",
        "! unzip plays.csv.zip"
      ],
      "metadata": {
        "colab": {
          "base_uri": "https://localhost:8080/"
        },
        "id": "ILAMOrl_Oe2c",
        "outputId": "36478b90-6592-4c34-bccc-f0e4ac284ba5"
      },
      "execution_count": 6,
      "outputs": [
        {
          "output_type": "stream",
          "name": "stdout",
          "text": [
            "Archive:  plays.csv.zip\n",
            "  inflating: plays.csv               \n"
          ]
        }
      ]
    },
    {
      "cell_type": "code",
      "source": [
        "tracking2018 = pd.read_csv('tracking2018.csv')\n",
        "tracking2019  = pd.read_csv('tracking2019.csv')\n",
        "tracking2020 = pd.read_csv('tracking2020.csv')\n",
        "plays = pd.read_csv('plays.csv')"
      ],
      "metadata": {
        "id": "x_r0NPZyFEGr"
      },
      "execution_count": 7,
      "outputs": []
    },
    {
      "cell_type": "code",
      "source": [
        "df_temp = pd.DataFrame(plays.groupby(['possessionTeam','specialTeamsPlayType']).kickLength.sum())\n",
        "df_temp2 = pd.DataFrame(plays.groupby(['possessionTeam','specialTeamsResult']).kickLength.sum())\n",
        "df_temp3= pd.DataFrame(plays.groupby(['possessionTeam','specialTeamsPlayType', 'specialTeamsResult']).sum()).reset_index()\n",
        "df_temp=df_temp.fillna(0)"
      ],
      "metadata": {
        "id": "v5Zl2SiLN2Lf"
      },
      "execution_count": 8,
      "outputs": []
    },
    {
      "cell_type": "code",
      "source": [
        "df_temp3.head()"
      ],
      "metadata": {
        "colab": {
          "base_uri": "https://localhost:8080/",
          "height": 270
        },
        "id": "n6ptI4gcPP53",
        "outputId": "ed1b683a-e6d9-4d6d-f30f-7c00f6bf192c"
      },
      "execution_count": 9,
      "outputs": [
        {
          "output_type": "execute_result",
          "data": {
            "text/plain": [
              "  possessionTeam specialTeamsPlayType    specialTeamsResult        gameId  \\\n",
              "0            ARI          Extra Point     Kick Attempt Good  199913592206   \n",
              "1            ARI          Extra Point  Kick Attempt No Good    6057326729   \n",
              "2            ARI           Field Goal  Blocked Kick Attempt    4040132527   \n",
              "3            ARI           Field Goal     Kick Attempt Good  121156388532   \n",
              "4            ARI           Field Goal  Kick Attempt No Good   26249364708   \n",
              "\n",
              "   playId  quarter  down  yardsToGo   kickerId  kickBlockerId  yardlineNumber  \\\n",
              "0  216796      246     0          0  4039745.0            0.0            1490   \n",
              "1    4081        5     0          0   135111.0            0.0              45   \n",
              "2    6545        7     8         24    74911.0        89483.0              45   \n",
              "3  132800      148   231        446  2505357.0            0.0            1049   \n",
              "4   33434       36    47         88   521950.0            0.0             384   \n",
              "\n",
              "   penaltyYards  preSnapHomeScore  preSnapVisitorScore  kickLength  \\\n",
              "0           5.0              1297                 1372         0.0   \n",
              "1           0.0                22                   33         0.0   \n",
              "2           0.0                25                   27         0.0   \n",
              "3           0.0               557                  710      2131.0   \n",
              "4           0.0               161                  198       618.0   \n",
              "\n",
              "   kickReturnYardage  playResult  absoluteYardlineNumber  \n",
              "0                0.0           0                    4990  \n",
              "1                0.0           0                     145  \n",
              "2                0.0         -59                     127  \n",
              "3                0.0           0                    3563  \n",
              "4                0.0        -104                     834  "
            ],
            "text/html": [
              "\n",
              "  <div id=\"df-fa852d59-96eb-46fe-871a-09f9df71347b\">\n",
              "    <div class=\"colab-df-container\">\n",
              "      <div>\n",
              "<style scoped>\n",
              "    .dataframe tbody tr th:only-of-type {\n",
              "        vertical-align: middle;\n",
              "    }\n",
              "\n",
              "    .dataframe tbody tr th {\n",
              "        vertical-align: top;\n",
              "    }\n",
              "\n",
              "    .dataframe thead th {\n",
              "        text-align: right;\n",
              "    }\n",
              "</style>\n",
              "<table border=\"1\" class=\"dataframe\">\n",
              "  <thead>\n",
              "    <tr style=\"text-align: right;\">\n",
              "      <th></th>\n",
              "      <th>possessionTeam</th>\n",
              "      <th>specialTeamsPlayType</th>\n",
              "      <th>specialTeamsResult</th>\n",
              "      <th>gameId</th>\n",
              "      <th>playId</th>\n",
              "      <th>quarter</th>\n",
              "      <th>down</th>\n",
              "      <th>yardsToGo</th>\n",
              "      <th>kickerId</th>\n",
              "      <th>kickBlockerId</th>\n",
              "      <th>yardlineNumber</th>\n",
              "      <th>penaltyYards</th>\n",
              "      <th>preSnapHomeScore</th>\n",
              "      <th>preSnapVisitorScore</th>\n",
              "      <th>kickLength</th>\n",
              "      <th>kickReturnYardage</th>\n",
              "      <th>playResult</th>\n",
              "      <th>absoluteYardlineNumber</th>\n",
              "    </tr>\n",
              "  </thead>\n",
              "  <tbody>\n",
              "    <tr>\n",
              "      <th>0</th>\n",
              "      <td>ARI</td>\n",
              "      <td>Extra Point</td>\n",
              "      <td>Kick Attempt Good</td>\n",
              "      <td>199913592206</td>\n",
              "      <td>216796</td>\n",
              "      <td>246</td>\n",
              "      <td>0</td>\n",
              "      <td>0</td>\n",
              "      <td>4039745.0</td>\n",
              "      <td>0.0</td>\n",
              "      <td>1490</td>\n",
              "      <td>5.0</td>\n",
              "      <td>1297</td>\n",
              "      <td>1372</td>\n",
              "      <td>0.0</td>\n",
              "      <td>0.0</td>\n",
              "      <td>0</td>\n",
              "      <td>4990</td>\n",
              "    </tr>\n",
              "    <tr>\n",
              "      <th>1</th>\n",
              "      <td>ARI</td>\n",
              "      <td>Extra Point</td>\n",
              "      <td>Kick Attempt No Good</td>\n",
              "      <td>6057326729</td>\n",
              "      <td>4081</td>\n",
              "      <td>5</td>\n",
              "      <td>0</td>\n",
              "      <td>0</td>\n",
              "      <td>135111.0</td>\n",
              "      <td>0.0</td>\n",
              "      <td>45</td>\n",
              "      <td>0.0</td>\n",
              "      <td>22</td>\n",
              "      <td>33</td>\n",
              "      <td>0.0</td>\n",
              "      <td>0.0</td>\n",
              "      <td>0</td>\n",
              "      <td>145</td>\n",
              "    </tr>\n",
              "    <tr>\n",
              "      <th>2</th>\n",
              "      <td>ARI</td>\n",
              "      <td>Field Goal</td>\n",
              "      <td>Blocked Kick Attempt</td>\n",
              "      <td>4040132527</td>\n",
              "      <td>6545</td>\n",
              "      <td>7</td>\n",
              "      <td>8</td>\n",
              "      <td>24</td>\n",
              "      <td>74911.0</td>\n",
              "      <td>89483.0</td>\n",
              "      <td>45</td>\n",
              "      <td>0.0</td>\n",
              "      <td>25</td>\n",
              "      <td>27</td>\n",
              "      <td>0.0</td>\n",
              "      <td>0.0</td>\n",
              "      <td>-59</td>\n",
              "      <td>127</td>\n",
              "    </tr>\n",
              "    <tr>\n",
              "      <th>3</th>\n",
              "      <td>ARI</td>\n",
              "      <td>Field Goal</td>\n",
              "      <td>Kick Attempt Good</td>\n",
              "      <td>121156388532</td>\n",
              "      <td>132800</td>\n",
              "      <td>148</td>\n",
              "      <td>231</td>\n",
              "      <td>446</td>\n",
              "      <td>2505357.0</td>\n",
              "      <td>0.0</td>\n",
              "      <td>1049</td>\n",
              "      <td>0.0</td>\n",
              "      <td>557</td>\n",
              "      <td>710</td>\n",
              "      <td>2131.0</td>\n",
              "      <td>0.0</td>\n",
              "      <td>0</td>\n",
              "      <td>3563</td>\n",
              "    </tr>\n",
              "    <tr>\n",
              "      <th>4</th>\n",
              "      <td>ARI</td>\n",
              "      <td>Field Goal</td>\n",
              "      <td>Kick Attempt No Good</td>\n",
              "      <td>26249364708</td>\n",
              "      <td>33434</td>\n",
              "      <td>36</td>\n",
              "      <td>47</td>\n",
              "      <td>88</td>\n",
              "      <td>521950.0</td>\n",
              "      <td>0.0</td>\n",
              "      <td>384</td>\n",
              "      <td>0.0</td>\n",
              "      <td>161</td>\n",
              "      <td>198</td>\n",
              "      <td>618.0</td>\n",
              "      <td>0.0</td>\n",
              "      <td>-104</td>\n",
              "      <td>834</td>\n",
              "    </tr>\n",
              "  </tbody>\n",
              "</table>\n",
              "</div>\n",
              "      <button class=\"colab-df-convert\" onclick=\"convertToInteractive('df-fa852d59-96eb-46fe-871a-09f9df71347b')\"\n",
              "              title=\"Convert this dataframe to an interactive table.\"\n",
              "              style=\"display:none;\">\n",
              "        \n",
              "  <svg xmlns=\"http://www.w3.org/2000/svg\" height=\"24px\"viewBox=\"0 0 24 24\"\n",
              "       width=\"24px\">\n",
              "    <path d=\"M0 0h24v24H0V0z\" fill=\"none\"/>\n",
              "    <path d=\"M18.56 5.44l.94 2.06.94-2.06 2.06-.94-2.06-.94-.94-2.06-.94 2.06-2.06.94zm-11 1L8.5 8.5l.94-2.06 2.06-.94-2.06-.94L8.5 2.5l-.94 2.06-2.06.94zm10 10l.94 2.06.94-2.06 2.06-.94-2.06-.94-.94-2.06-.94 2.06-2.06.94z\"/><path d=\"M17.41 7.96l-1.37-1.37c-.4-.4-.92-.59-1.43-.59-.52 0-1.04.2-1.43.59L10.3 9.45l-7.72 7.72c-.78.78-.78 2.05 0 2.83L4 21.41c.39.39.9.59 1.41.59.51 0 1.02-.2 1.41-.59l7.78-7.78 2.81-2.81c.8-.78.8-2.07 0-2.86zM5.41 20L4 18.59l7.72-7.72 1.47 1.35L5.41 20z\"/>\n",
              "  </svg>\n",
              "      </button>\n",
              "      \n",
              "  <style>\n",
              "    .colab-df-container {\n",
              "      display:flex;\n",
              "      flex-wrap:wrap;\n",
              "      gap: 12px;\n",
              "    }\n",
              "\n",
              "    .colab-df-convert {\n",
              "      background-color: #E8F0FE;\n",
              "      border: none;\n",
              "      border-radius: 50%;\n",
              "      cursor: pointer;\n",
              "      display: none;\n",
              "      fill: #1967D2;\n",
              "      height: 32px;\n",
              "      padding: 0 0 0 0;\n",
              "      width: 32px;\n",
              "    }\n",
              "\n",
              "    .colab-df-convert:hover {\n",
              "      background-color: #E2EBFA;\n",
              "      box-shadow: 0px 1px 2px rgba(60, 64, 67, 0.3), 0px 1px 3px 1px rgba(60, 64, 67, 0.15);\n",
              "      fill: #174EA6;\n",
              "    }\n",
              "\n",
              "    [theme=dark] .colab-df-convert {\n",
              "      background-color: #3B4455;\n",
              "      fill: #D2E3FC;\n",
              "    }\n",
              "\n",
              "    [theme=dark] .colab-df-convert:hover {\n",
              "      background-color: #434B5C;\n",
              "      box-shadow: 0px 1px 3px 1px rgba(0, 0, 0, 0.15);\n",
              "      filter: drop-shadow(0px 1px 2px rgba(0, 0, 0, 0.3));\n",
              "      fill: #FFFFFF;\n",
              "    }\n",
              "  </style>\n",
              "\n",
              "      <script>\n",
              "        const buttonEl =\n",
              "          document.querySelector('#df-fa852d59-96eb-46fe-871a-09f9df71347b button.colab-df-convert');\n",
              "        buttonEl.style.display =\n",
              "          google.colab.kernel.accessAllowed ? 'block' : 'none';\n",
              "\n",
              "        async function convertToInteractive(key) {\n",
              "          const element = document.querySelector('#df-fa852d59-96eb-46fe-871a-09f9df71347b');\n",
              "          const dataTable =\n",
              "            await google.colab.kernel.invokeFunction('convertToInteractive',\n",
              "                                                     [key], {});\n",
              "          if (!dataTable) return;\n",
              "\n",
              "          const docLinkHtml = 'Like what you see? Visit the ' +\n",
              "            '<a target=\"_blank\" href=https://colab.research.google.com/notebooks/data_table.ipynb>data table notebook</a>'\n",
              "            + ' to learn more about interactive tables.';\n",
              "          element.innerHTML = '';\n",
              "          dataTable['output_type'] = 'display_data';\n",
              "          await google.colab.output.renderOutput(dataTable, element);\n",
              "          const docLink = document.createElement('div');\n",
              "          docLink.innerHTML = docLinkHtml;\n",
              "          element.appendChild(docLink);\n",
              "        }\n",
              "      </script>\n",
              "    </div>\n",
              "  </div>\n",
              "  "
            ]
          },
          "metadata": {},
          "execution_count": 9
        }
      ]
    },
    {
      "cell_type": "code",
      "source": [
        "print(df_temp3.specialTeamsResult.unique().tolist())"
      ],
      "metadata": {
        "colab": {
          "base_uri": "https://localhost:8080/"
        },
        "id": "0mRQirnRO0ab",
        "outputId": "b5beb8a7-6730-454a-ff6a-e7f8e38dc5f7"
      },
      "execution_count": 10,
      "outputs": [
        {
          "output_type": "stream",
          "name": "stdout",
          "text": [
            "['Kick Attempt Good', 'Kick Attempt No Good', 'Blocked Kick Attempt', 'Muffed', 'Out of Bounds', 'Return', 'Touchback', 'Blocked Punt', 'Downed', 'Fair Catch', 'Non-Special Teams Result', 'Kickoff Team Recovery']\n"
          ]
        }
      ]
    },
    {
      "cell_type": "code",
      "source": [
        "print(df_temp3.specialTeamsPlayType.unique().tolist())"
      ],
      "metadata": {
        "colab": {
          "base_uri": "https://localhost:8080/"
        },
        "id": "WMHWgwLCO1To",
        "outputId": "0008d6a2-10fa-4dca-a068-bbfd40ae5934"
      },
      "execution_count": 11,
      "outputs": [
        {
          "output_type": "stream",
          "name": "stdout",
          "text": [
            "['Extra Point', 'Field Goal', 'Kickoff', 'Punt']\n"
          ]
        }
      ]
    },
    {
      "cell_type": "code",
      "source": [
        "df_temp3.to_csv('grouped_kickLength.csv', encoding='utf-8', index=False)"
      ],
      "metadata": {
        "id": "OmNaPd8eO6Ns"
      },
      "execution_count": 12,
      "outputs": []
    },
    {
      "cell_type": "code",
      "source": [
        "del df_temp\n",
        "del df_temp3\n",
        "del df_temp2"
      ],
      "metadata": {
        "id": "CxrgeWy4PBYm"
      },
      "execution_count": 13,
      "outputs": []
    },
    {
      "cell_type": "code",
      "source": [
        "df_temp = pd.DataFrame(plays.groupby(['possessionTeam','specialTeamsPlayType']).kickReturnYardage.sum())\n",
        "df_temp2 = pd.DataFrame(plays.groupby(['possessionTeam','specialTeamsResult']).kickReturnYardage.sum())\n",
        "df_temp3= pd.DataFrame(plays.groupby(['possessionTeam','specialTeamsPlayType', 'specialTeamsResult']).sum()).reset_index()\n",
        "df_temp=df_temp.fillna(0)"
      ],
      "metadata": {
        "id": "VM5U9INBPBjG"
      },
      "execution_count": 14,
      "outputs": []
    },
    {
      "cell_type": "code",
      "source": [
        "df_temp3.head()"
      ],
      "metadata": {
        "colab": {
          "base_uri": "https://localhost:8080/",
          "height": 270
        },
        "id": "yZw71yxUPVxm",
        "outputId": "6b6007a4-c220-4b5f-8093-163acfd0eb18"
      },
      "execution_count": 15,
      "outputs": [
        {
          "output_type": "execute_result",
          "data": {
            "text/plain": [
              "  possessionTeam specialTeamsPlayType    specialTeamsResult        gameId  \\\n",
              "0            ARI          Extra Point     Kick Attempt Good  199913592206   \n",
              "1            ARI          Extra Point  Kick Attempt No Good    6057326729   \n",
              "2            ARI           Field Goal  Blocked Kick Attempt    4040132527   \n",
              "3            ARI           Field Goal     Kick Attempt Good  121156388532   \n",
              "4            ARI           Field Goal  Kick Attempt No Good   26249364708   \n",
              "\n",
              "   playId  quarter  down  yardsToGo   kickerId  kickBlockerId  yardlineNumber  \\\n",
              "0  216796      246     0          0  4039745.0            0.0            1490   \n",
              "1    4081        5     0          0   135111.0            0.0              45   \n",
              "2    6545        7     8         24    74911.0        89483.0              45   \n",
              "3  132800      148   231        446  2505357.0            0.0            1049   \n",
              "4   33434       36    47         88   521950.0            0.0             384   \n",
              "\n",
              "   penaltyYards  preSnapHomeScore  preSnapVisitorScore  kickLength  \\\n",
              "0           5.0              1297                 1372         0.0   \n",
              "1           0.0                22                   33         0.0   \n",
              "2           0.0                25                   27         0.0   \n",
              "3           0.0               557                  710      2131.0   \n",
              "4           0.0               161                  198       618.0   \n",
              "\n",
              "   kickReturnYardage  playResult  absoluteYardlineNumber  \n",
              "0                0.0           0                    4990  \n",
              "1                0.0           0                     145  \n",
              "2                0.0         -59                     127  \n",
              "3                0.0           0                    3563  \n",
              "4                0.0        -104                     834  "
            ],
            "text/html": [
              "\n",
              "  <div id=\"df-00b3c195-6bfb-4283-8f81-d93cad884271\">\n",
              "    <div class=\"colab-df-container\">\n",
              "      <div>\n",
              "<style scoped>\n",
              "    .dataframe tbody tr th:only-of-type {\n",
              "        vertical-align: middle;\n",
              "    }\n",
              "\n",
              "    .dataframe tbody tr th {\n",
              "        vertical-align: top;\n",
              "    }\n",
              "\n",
              "    .dataframe thead th {\n",
              "        text-align: right;\n",
              "    }\n",
              "</style>\n",
              "<table border=\"1\" class=\"dataframe\">\n",
              "  <thead>\n",
              "    <tr style=\"text-align: right;\">\n",
              "      <th></th>\n",
              "      <th>possessionTeam</th>\n",
              "      <th>specialTeamsPlayType</th>\n",
              "      <th>specialTeamsResult</th>\n",
              "      <th>gameId</th>\n",
              "      <th>playId</th>\n",
              "      <th>quarter</th>\n",
              "      <th>down</th>\n",
              "      <th>yardsToGo</th>\n",
              "      <th>kickerId</th>\n",
              "      <th>kickBlockerId</th>\n",
              "      <th>yardlineNumber</th>\n",
              "      <th>penaltyYards</th>\n",
              "      <th>preSnapHomeScore</th>\n",
              "      <th>preSnapVisitorScore</th>\n",
              "      <th>kickLength</th>\n",
              "      <th>kickReturnYardage</th>\n",
              "      <th>playResult</th>\n",
              "      <th>absoluteYardlineNumber</th>\n",
              "    </tr>\n",
              "  </thead>\n",
              "  <tbody>\n",
              "    <tr>\n",
              "      <th>0</th>\n",
              "      <td>ARI</td>\n",
              "      <td>Extra Point</td>\n",
              "      <td>Kick Attempt Good</td>\n",
              "      <td>199913592206</td>\n",
              "      <td>216796</td>\n",
              "      <td>246</td>\n",
              "      <td>0</td>\n",
              "      <td>0</td>\n",
              "      <td>4039745.0</td>\n",
              "      <td>0.0</td>\n",
              "      <td>1490</td>\n",
              "      <td>5.0</td>\n",
              "      <td>1297</td>\n",
              "      <td>1372</td>\n",
              "      <td>0.0</td>\n",
              "      <td>0.0</td>\n",
              "      <td>0</td>\n",
              "      <td>4990</td>\n",
              "    </tr>\n",
              "    <tr>\n",
              "      <th>1</th>\n",
              "      <td>ARI</td>\n",
              "      <td>Extra Point</td>\n",
              "      <td>Kick Attempt No Good</td>\n",
              "      <td>6057326729</td>\n",
              "      <td>4081</td>\n",
              "      <td>5</td>\n",
              "      <td>0</td>\n",
              "      <td>0</td>\n",
              "      <td>135111.0</td>\n",
              "      <td>0.0</td>\n",
              "      <td>45</td>\n",
              "      <td>0.0</td>\n",
              "      <td>22</td>\n",
              "      <td>33</td>\n",
              "      <td>0.0</td>\n",
              "      <td>0.0</td>\n",
              "      <td>0</td>\n",
              "      <td>145</td>\n",
              "    </tr>\n",
              "    <tr>\n",
              "      <th>2</th>\n",
              "      <td>ARI</td>\n",
              "      <td>Field Goal</td>\n",
              "      <td>Blocked Kick Attempt</td>\n",
              "      <td>4040132527</td>\n",
              "      <td>6545</td>\n",
              "      <td>7</td>\n",
              "      <td>8</td>\n",
              "      <td>24</td>\n",
              "      <td>74911.0</td>\n",
              "      <td>89483.0</td>\n",
              "      <td>45</td>\n",
              "      <td>0.0</td>\n",
              "      <td>25</td>\n",
              "      <td>27</td>\n",
              "      <td>0.0</td>\n",
              "      <td>0.0</td>\n",
              "      <td>-59</td>\n",
              "      <td>127</td>\n",
              "    </tr>\n",
              "    <tr>\n",
              "      <th>3</th>\n",
              "      <td>ARI</td>\n",
              "      <td>Field Goal</td>\n",
              "      <td>Kick Attempt Good</td>\n",
              "      <td>121156388532</td>\n",
              "      <td>132800</td>\n",
              "      <td>148</td>\n",
              "      <td>231</td>\n",
              "      <td>446</td>\n",
              "      <td>2505357.0</td>\n",
              "      <td>0.0</td>\n",
              "      <td>1049</td>\n",
              "      <td>0.0</td>\n",
              "      <td>557</td>\n",
              "      <td>710</td>\n",
              "      <td>2131.0</td>\n",
              "      <td>0.0</td>\n",
              "      <td>0</td>\n",
              "      <td>3563</td>\n",
              "    </tr>\n",
              "    <tr>\n",
              "      <th>4</th>\n",
              "      <td>ARI</td>\n",
              "      <td>Field Goal</td>\n",
              "      <td>Kick Attempt No Good</td>\n",
              "      <td>26249364708</td>\n",
              "      <td>33434</td>\n",
              "      <td>36</td>\n",
              "      <td>47</td>\n",
              "      <td>88</td>\n",
              "      <td>521950.0</td>\n",
              "      <td>0.0</td>\n",
              "      <td>384</td>\n",
              "      <td>0.0</td>\n",
              "      <td>161</td>\n",
              "      <td>198</td>\n",
              "      <td>618.0</td>\n",
              "      <td>0.0</td>\n",
              "      <td>-104</td>\n",
              "      <td>834</td>\n",
              "    </tr>\n",
              "  </tbody>\n",
              "</table>\n",
              "</div>\n",
              "      <button class=\"colab-df-convert\" onclick=\"convertToInteractive('df-00b3c195-6bfb-4283-8f81-d93cad884271')\"\n",
              "              title=\"Convert this dataframe to an interactive table.\"\n",
              "              style=\"display:none;\">\n",
              "        \n",
              "  <svg xmlns=\"http://www.w3.org/2000/svg\" height=\"24px\"viewBox=\"0 0 24 24\"\n",
              "       width=\"24px\">\n",
              "    <path d=\"M0 0h24v24H0V0z\" fill=\"none\"/>\n",
              "    <path d=\"M18.56 5.44l.94 2.06.94-2.06 2.06-.94-2.06-.94-.94-2.06-.94 2.06-2.06.94zm-11 1L8.5 8.5l.94-2.06 2.06-.94-2.06-.94L8.5 2.5l-.94 2.06-2.06.94zm10 10l.94 2.06.94-2.06 2.06-.94-2.06-.94-.94-2.06-.94 2.06-2.06.94z\"/><path d=\"M17.41 7.96l-1.37-1.37c-.4-.4-.92-.59-1.43-.59-.52 0-1.04.2-1.43.59L10.3 9.45l-7.72 7.72c-.78.78-.78 2.05 0 2.83L4 21.41c.39.39.9.59 1.41.59.51 0 1.02-.2 1.41-.59l7.78-7.78 2.81-2.81c.8-.78.8-2.07 0-2.86zM5.41 20L4 18.59l7.72-7.72 1.47 1.35L5.41 20z\"/>\n",
              "  </svg>\n",
              "      </button>\n",
              "      \n",
              "  <style>\n",
              "    .colab-df-container {\n",
              "      display:flex;\n",
              "      flex-wrap:wrap;\n",
              "      gap: 12px;\n",
              "    }\n",
              "\n",
              "    .colab-df-convert {\n",
              "      background-color: #E8F0FE;\n",
              "      border: none;\n",
              "      border-radius: 50%;\n",
              "      cursor: pointer;\n",
              "      display: none;\n",
              "      fill: #1967D2;\n",
              "      height: 32px;\n",
              "      padding: 0 0 0 0;\n",
              "      width: 32px;\n",
              "    }\n",
              "\n",
              "    .colab-df-convert:hover {\n",
              "      background-color: #E2EBFA;\n",
              "      box-shadow: 0px 1px 2px rgba(60, 64, 67, 0.3), 0px 1px 3px 1px rgba(60, 64, 67, 0.15);\n",
              "      fill: #174EA6;\n",
              "    }\n",
              "\n",
              "    [theme=dark] .colab-df-convert {\n",
              "      background-color: #3B4455;\n",
              "      fill: #D2E3FC;\n",
              "    }\n",
              "\n",
              "    [theme=dark] .colab-df-convert:hover {\n",
              "      background-color: #434B5C;\n",
              "      box-shadow: 0px 1px 3px 1px rgba(0, 0, 0, 0.15);\n",
              "      filter: drop-shadow(0px 1px 2px rgba(0, 0, 0, 0.3));\n",
              "      fill: #FFFFFF;\n",
              "    }\n",
              "  </style>\n",
              "\n",
              "      <script>\n",
              "        const buttonEl =\n",
              "          document.querySelector('#df-00b3c195-6bfb-4283-8f81-d93cad884271 button.colab-df-convert');\n",
              "        buttonEl.style.display =\n",
              "          google.colab.kernel.accessAllowed ? 'block' : 'none';\n",
              "\n",
              "        async function convertToInteractive(key) {\n",
              "          const element = document.querySelector('#df-00b3c195-6bfb-4283-8f81-d93cad884271');\n",
              "          const dataTable =\n",
              "            await google.colab.kernel.invokeFunction('convertToInteractive',\n",
              "                                                     [key], {});\n",
              "          if (!dataTable) return;\n",
              "\n",
              "          const docLinkHtml = 'Like what you see? Visit the ' +\n",
              "            '<a target=\"_blank\" href=https://colab.research.google.com/notebooks/data_table.ipynb>data table notebook</a>'\n",
              "            + ' to learn more about interactive tables.';\n",
              "          element.innerHTML = '';\n",
              "          dataTable['output_type'] = 'display_data';\n",
              "          await google.colab.output.renderOutput(dataTable, element);\n",
              "          const docLink = document.createElement('div');\n",
              "          docLink.innerHTML = docLinkHtml;\n",
              "          element.appendChild(docLink);\n",
              "        }\n",
              "      </script>\n",
              "    </div>\n",
              "  </div>\n",
              "  "
            ]
          },
          "metadata": {},
          "execution_count": 15
        }
      ]
    },
    {
      "cell_type": "code",
      "source": [
        "df_temp3.to_csv('grouped_kickReturnYardage.csv', encoding='utf-8', index=False)"
      ],
      "metadata": {
        "id": "IfG2xvnQPBot"
      },
      "execution_count": 16,
      "outputs": []
    },
    {
      "cell_type": "markdown",
      "source": [
        "# Create Punt return data set"
      ],
      "metadata": {
        "id": "Dk5DkvF8QFMB"
      }
    },
    {
      "cell_type": "markdown",
      "source": [
        "extract all the punt returns from the plays data set.\n",
        "\n"
      ],
      "metadata": {
        "id": "hq132htDQULS"
      }
    },
    {
      "cell_type": "code",
      "source": [
        "punt_return = plays[(plays['specialTeamsResult'] == 'Return') & (plays['specialTeamsPlayType'] == 'Punt')]"
      ],
      "metadata": {
        "id": "4LyiqnyJJC37"
      },
      "execution_count": 20,
      "outputs": []
    },
    {
      "cell_type": "markdown",
      "source": [],
      "metadata": {
        "id": "5FnBRhTgtYbn"
      }
    },
    {
      "cell_type": "code",
      "source": [
        "# punt_return = plays[(plays['specialTeamsResult'] == 'Muffed') & (plays['specialTeamsPlayType'] == 'Kickoff')]"
      ],
      "metadata": {
        "id": "STzKkUuyrfct"
      },
      "execution_count": 18,
      "outputs": []
    },
    {
      "cell_type": "code",
      "source": [
        "punt_return.head()"
      ],
      "metadata": {
        "colab": {
          "base_uri": "https://localhost:8080/",
          "height": 473
        },
        "id": "EA88t1mbKxhm",
        "outputId": "b9a8e1d5-90ad-4688-fc7b-f8cc38f8bd44"
      },
      "execution_count": 19,
      "outputs": [
        {
          "output_type": "execute_result",
          "data": {
            "text/plain": [
              "          gameId  playId                                    playDescription  \\\n",
              "383   2018091300    2768  J.Tucker kicks 37 yards from BAL 35 to CIN 28....   \n",
              "1177  2018092313     441  S.Martin kicks 53 yards from DET 35 to NE 12. ...   \n",
              "1395  2018093004    4252  K.Fairbairn kicks 66 yards from HOU 35 to IND ...   \n",
              "1615  2018093011    3604  A.Rosas kicks 64 yards from NYG 35 to NO 1. T....   \n",
              "2215  2018101403    3914  K.Fairbairn kicks 73 yards from HOU 20 to BUF ...   \n",
              "\n",
              "      quarter  down  yardsToGo possessionTeam specialTeamsPlayType  \\\n",
              "383         2     0          0            BAL              Kickoff   \n",
              "1177        1     0          0            DET              Kickoff   \n",
              "1395        4     0          0            HOU              Kickoff   \n",
              "1615        4     0          0            NYG              Kickoff   \n",
              "2215        4     0          0            HOU              Kickoff   \n",
              "\n",
              "     specialTeamsResult  kickerId  ... penaltyCodes  penaltyJerseyNumbers  \\\n",
              "383              Muffed   39470.0  ...          NaN                   NaN   \n",
              "1177             Muffed   40113.0  ...          NaN                   NaN   \n",
              "1395             Muffed   43846.0  ...          NaN                   NaN   \n",
              "1615             Muffed   43937.0  ...          NaN                   NaN   \n",
              "2215             Muffed   43846.0  ...          NaN                   NaN   \n",
              "\n",
              "     penaltyYards  preSnapHomeScore preSnapVisitorScore passResult kickLength  \\\n",
              "383           NaN                28                  14        NaN       37.0   \n",
              "1177          NaN                 3                   0        NaN       58.0   \n",
              "1395          NaN                23                  31        NaN       66.0   \n",
              "1615          NaN                18                  26        NaN       64.0   \n",
              "2215          NaN                20                  13        NaN       73.0   \n",
              "\n",
              "      kickReturnYardage  playResult  absoluteYardlineNumber  \n",
              "383                11.0          26                      75  \n",
              "1177               18.0          40                      45  \n",
              "1395               12.0          50                      75  \n",
              "1615                1.0          62                      75  \n",
              "2215                4.0          67                      30  \n",
              "\n",
              "[5 rows x 25 columns]"
            ],
            "text/html": [
              "\n",
              "  <div id=\"df-a29f9fd0-8cca-498b-8bcf-5c757cf4872d\">\n",
              "    <div class=\"colab-df-container\">\n",
              "      <div>\n",
              "<style scoped>\n",
              "    .dataframe tbody tr th:only-of-type {\n",
              "        vertical-align: middle;\n",
              "    }\n",
              "\n",
              "    .dataframe tbody tr th {\n",
              "        vertical-align: top;\n",
              "    }\n",
              "\n",
              "    .dataframe thead th {\n",
              "        text-align: right;\n",
              "    }\n",
              "</style>\n",
              "<table border=\"1\" class=\"dataframe\">\n",
              "  <thead>\n",
              "    <tr style=\"text-align: right;\">\n",
              "      <th></th>\n",
              "      <th>gameId</th>\n",
              "      <th>playId</th>\n",
              "      <th>playDescription</th>\n",
              "      <th>quarter</th>\n",
              "      <th>down</th>\n",
              "      <th>yardsToGo</th>\n",
              "      <th>possessionTeam</th>\n",
              "      <th>specialTeamsPlayType</th>\n",
              "      <th>specialTeamsResult</th>\n",
              "      <th>kickerId</th>\n",
              "      <th>...</th>\n",
              "      <th>penaltyCodes</th>\n",
              "      <th>penaltyJerseyNumbers</th>\n",
              "      <th>penaltyYards</th>\n",
              "      <th>preSnapHomeScore</th>\n",
              "      <th>preSnapVisitorScore</th>\n",
              "      <th>passResult</th>\n",
              "      <th>kickLength</th>\n",
              "      <th>kickReturnYardage</th>\n",
              "      <th>playResult</th>\n",
              "      <th>absoluteYardlineNumber</th>\n",
              "    </tr>\n",
              "  </thead>\n",
              "  <tbody>\n",
              "    <tr>\n",
              "      <th>383</th>\n",
              "      <td>2018091300</td>\n",
              "      <td>2768</td>\n",
              "      <td>J.Tucker kicks 37 yards from BAL 35 to CIN 28....</td>\n",
              "      <td>2</td>\n",
              "      <td>0</td>\n",
              "      <td>0</td>\n",
              "      <td>BAL</td>\n",
              "      <td>Kickoff</td>\n",
              "      <td>Muffed</td>\n",
              "      <td>39470.0</td>\n",
              "      <td>...</td>\n",
              "      <td>NaN</td>\n",
              "      <td>NaN</td>\n",
              "      <td>NaN</td>\n",
              "      <td>28</td>\n",
              "      <td>14</td>\n",
              "      <td>NaN</td>\n",
              "      <td>37.0</td>\n",
              "      <td>11.0</td>\n",
              "      <td>26</td>\n",
              "      <td>75</td>\n",
              "    </tr>\n",
              "    <tr>\n",
              "      <th>1177</th>\n",
              "      <td>2018092313</td>\n",
              "      <td>441</td>\n",
              "      <td>S.Martin kicks 53 yards from DET 35 to NE 12. ...</td>\n",
              "      <td>1</td>\n",
              "      <td>0</td>\n",
              "      <td>0</td>\n",
              "      <td>DET</td>\n",
              "      <td>Kickoff</td>\n",
              "      <td>Muffed</td>\n",
              "      <td>40113.0</td>\n",
              "      <td>...</td>\n",
              "      <td>NaN</td>\n",
              "      <td>NaN</td>\n",
              "      <td>NaN</td>\n",
              "      <td>3</td>\n",
              "      <td>0</td>\n",
              "      <td>NaN</td>\n",
              "      <td>58.0</td>\n",
              "      <td>18.0</td>\n",
              "      <td>40</td>\n",
              "      <td>45</td>\n",
              "    </tr>\n",
              "    <tr>\n",
              "      <th>1395</th>\n",
              "      <td>2018093004</td>\n",
              "      <td>4252</td>\n",
              "      <td>K.Fairbairn kicks 66 yards from HOU 35 to IND ...</td>\n",
              "      <td>4</td>\n",
              "      <td>0</td>\n",
              "      <td>0</td>\n",
              "      <td>HOU</td>\n",
              "      <td>Kickoff</td>\n",
              "      <td>Muffed</td>\n",
              "      <td>43846.0</td>\n",
              "      <td>...</td>\n",
              "      <td>NaN</td>\n",
              "      <td>NaN</td>\n",
              "      <td>NaN</td>\n",
              "      <td>23</td>\n",
              "      <td>31</td>\n",
              "      <td>NaN</td>\n",
              "      <td>66.0</td>\n",
              "      <td>12.0</td>\n",
              "      <td>50</td>\n",
              "      <td>75</td>\n",
              "    </tr>\n",
              "    <tr>\n",
              "      <th>1615</th>\n",
              "      <td>2018093011</td>\n",
              "      <td>3604</td>\n",
              "      <td>A.Rosas kicks 64 yards from NYG 35 to NO 1. T....</td>\n",
              "      <td>4</td>\n",
              "      <td>0</td>\n",
              "      <td>0</td>\n",
              "      <td>NYG</td>\n",
              "      <td>Kickoff</td>\n",
              "      <td>Muffed</td>\n",
              "      <td>43937.0</td>\n",
              "      <td>...</td>\n",
              "      <td>NaN</td>\n",
              "      <td>NaN</td>\n",
              "      <td>NaN</td>\n",
              "      <td>18</td>\n",
              "      <td>26</td>\n",
              "      <td>NaN</td>\n",
              "      <td>64.0</td>\n",
              "      <td>1.0</td>\n",
              "      <td>62</td>\n",
              "      <td>75</td>\n",
              "    </tr>\n",
              "    <tr>\n",
              "      <th>2215</th>\n",
              "      <td>2018101403</td>\n",
              "      <td>3914</td>\n",
              "      <td>K.Fairbairn kicks 73 yards from HOU 20 to BUF ...</td>\n",
              "      <td>4</td>\n",
              "      <td>0</td>\n",
              "      <td>0</td>\n",
              "      <td>HOU</td>\n",
              "      <td>Kickoff</td>\n",
              "      <td>Muffed</td>\n",
              "      <td>43846.0</td>\n",
              "      <td>...</td>\n",
              "      <td>NaN</td>\n",
              "      <td>NaN</td>\n",
              "      <td>NaN</td>\n",
              "      <td>20</td>\n",
              "      <td>13</td>\n",
              "      <td>NaN</td>\n",
              "      <td>73.0</td>\n",
              "      <td>4.0</td>\n",
              "      <td>67</td>\n",
              "      <td>30</td>\n",
              "    </tr>\n",
              "  </tbody>\n",
              "</table>\n",
              "<p>5 rows × 25 columns</p>\n",
              "</div>\n",
              "      <button class=\"colab-df-convert\" onclick=\"convertToInteractive('df-a29f9fd0-8cca-498b-8bcf-5c757cf4872d')\"\n",
              "              title=\"Convert this dataframe to an interactive table.\"\n",
              "              style=\"display:none;\">\n",
              "        \n",
              "  <svg xmlns=\"http://www.w3.org/2000/svg\" height=\"24px\"viewBox=\"0 0 24 24\"\n",
              "       width=\"24px\">\n",
              "    <path d=\"M0 0h24v24H0V0z\" fill=\"none\"/>\n",
              "    <path d=\"M18.56 5.44l.94 2.06.94-2.06 2.06-.94-2.06-.94-.94-2.06-.94 2.06-2.06.94zm-11 1L8.5 8.5l.94-2.06 2.06-.94-2.06-.94L8.5 2.5l-.94 2.06-2.06.94zm10 10l.94 2.06.94-2.06 2.06-.94-2.06-.94-.94-2.06-.94 2.06-2.06.94z\"/><path d=\"M17.41 7.96l-1.37-1.37c-.4-.4-.92-.59-1.43-.59-.52 0-1.04.2-1.43.59L10.3 9.45l-7.72 7.72c-.78.78-.78 2.05 0 2.83L4 21.41c.39.39.9.59 1.41.59.51 0 1.02-.2 1.41-.59l7.78-7.78 2.81-2.81c.8-.78.8-2.07 0-2.86zM5.41 20L4 18.59l7.72-7.72 1.47 1.35L5.41 20z\"/>\n",
              "  </svg>\n",
              "      </button>\n",
              "      \n",
              "  <style>\n",
              "    .colab-df-container {\n",
              "      display:flex;\n",
              "      flex-wrap:wrap;\n",
              "      gap: 12px;\n",
              "    }\n",
              "\n",
              "    .colab-df-convert {\n",
              "      background-color: #E8F0FE;\n",
              "      border: none;\n",
              "      border-radius: 50%;\n",
              "      cursor: pointer;\n",
              "      display: none;\n",
              "      fill: #1967D2;\n",
              "      height: 32px;\n",
              "      padding: 0 0 0 0;\n",
              "      width: 32px;\n",
              "    }\n",
              "\n",
              "    .colab-df-convert:hover {\n",
              "      background-color: #E2EBFA;\n",
              "      box-shadow: 0px 1px 2px rgba(60, 64, 67, 0.3), 0px 1px 3px 1px rgba(60, 64, 67, 0.15);\n",
              "      fill: #174EA6;\n",
              "    }\n",
              "\n",
              "    [theme=dark] .colab-df-convert {\n",
              "      background-color: #3B4455;\n",
              "      fill: #D2E3FC;\n",
              "    }\n",
              "\n",
              "    [theme=dark] .colab-df-convert:hover {\n",
              "      background-color: #434B5C;\n",
              "      box-shadow: 0px 1px 3px 1px rgba(0, 0, 0, 0.15);\n",
              "      filter: drop-shadow(0px 1px 2px rgba(0, 0, 0, 0.3));\n",
              "      fill: #FFFFFF;\n",
              "    }\n",
              "  </style>\n",
              "\n",
              "      <script>\n",
              "        const buttonEl =\n",
              "          document.querySelector('#df-a29f9fd0-8cca-498b-8bcf-5c757cf4872d button.colab-df-convert');\n",
              "        buttonEl.style.display =\n",
              "          google.colab.kernel.accessAllowed ? 'block' : 'none';\n",
              "\n",
              "        async function convertToInteractive(key) {\n",
              "          const element = document.querySelector('#df-a29f9fd0-8cca-498b-8bcf-5c757cf4872d');\n",
              "          const dataTable =\n",
              "            await google.colab.kernel.invokeFunction('convertToInteractive',\n",
              "                                                     [key], {});\n",
              "          if (!dataTable) return;\n",
              "\n",
              "          const docLinkHtml = 'Like what you see? Visit the ' +\n",
              "            '<a target=\"_blank\" href=https://colab.research.google.com/notebooks/data_table.ipynb>data table notebook</a>'\n",
              "            + ' to learn more about interactive tables.';\n",
              "          element.innerHTML = '';\n",
              "          dataTable['output_type'] = 'display_data';\n",
              "          await google.colab.output.renderOutput(dataTable, element);\n",
              "          const docLink = document.createElement('div');\n",
              "          docLink.innerHTML = docLinkHtml;\n",
              "          element.appendChild(docLink);\n",
              "        }\n",
              "      </script>\n",
              "    </div>\n",
              "  </div>\n",
              "  "
            ]
          },
          "metadata": {},
          "execution_count": 19
        }
      ]
    },
    {
      "cell_type": "markdown",
      "source": [
        "Filter all columns that we will not need"
      ],
      "metadata": {
        "id": "YZJGabScQbUY"
      }
    },
    {
      "cell_type": "code",
      "source": [
        "punt_return = punt_return[['gameId', 'playId', 'returnerId',\n",
        "       'kickLength', 'kickReturnYardage', 'playResult', 'penaltyYards']]"
      ],
      "metadata": {
        "id": "l9jzmQP3JGHV"
      },
      "execution_count": 21,
      "outputs": []
    },
    {
      "cell_type": "code",
      "source": [
        "((punt_return.isna().sum())/punt_return.shape[0]).sort_values()\n"
      ],
      "metadata": {
        "colab": {
          "base_uri": "https://localhost:8080/"
        },
        "id": "5sJXUNRFJHRJ",
        "outputId": "fc93aa01-dcce-4247-cc5e-20f1238f4010"
      },
      "execution_count": 22,
      "outputs": [
        {
          "output_type": "execute_result",
          "data": {
            "text/plain": [
              "gameId               0.000000\n",
              "playId               0.000000\n",
              "kickLength           0.000000\n",
              "playResult           0.000000\n",
              "returnerId           0.000437\n",
              "kickReturnYardage    0.003500\n",
              "penaltyYards         0.822835\n",
              "dtype: float64"
            ]
          },
          "metadata": {},
          "execution_count": 22
        }
      ]
    },
    {
      "cell_type": "code",
      "source": [
        "punt_return = punt_return[(~punt_return.returnerId.isna())]\n"
      ],
      "metadata": {
        "id": "NmQ0WBveJMPR"
      },
      "execution_count": 23,
      "outputs": []
    },
    {
      "cell_type": "markdown",
      "source": [
        "The missing values in kickReturnYardage might be reconstructed as\n",
        "\n",
        "kickReturnYardage = kickLength - playResult + penaltyYards, (1)\n",
        "\n",
        "where penaltyYards is often missing. It is very much possible though that penaltyYards is missing whenever there was no penalty or equivalently penaltyYards = 0."
      ],
      "metadata": {
        "id": "w_Fa4DbnQrRQ"
      }
    },
    {
      "cell_type": "code",
      "source": [
        "punt_return['penaltyYards'] = punt_return['penaltyYards'].fillna(0)\n",
        "1 - sum(punt_return['kickReturnYardage'] == punt_return['kickLength'] - punt_return['playResult'] + punt_return['penaltyYards']) / punt_return.shape[0]"
      ],
      "metadata": {
        "colab": {
          "base_uri": "https://localhost:8080/"
        },
        "id": "DFuZGJmGJQZb",
        "outputId": "294e1f18-f900-4924-ca21-70b35c69438c"
      },
      "execution_count": 24,
      "outputs": [
        {
          "output_type": "execute_result",
          "data": {
            "text/plain": [
              "0.015754923413566768"
            ]
          },
          "metadata": {},
          "execution_count": 24
        }
      ]
    },
    {
      "cell_type": "markdown",
      "source": [
        "remove the rows with missing kickReturnYardage."
      ],
      "metadata": {
        "id": "qlll6arrQ7aI"
      }
    },
    {
      "cell_type": "code",
      "source": [
        "punt_return = punt_return[~punt_return.kickReturnYardage.isna()]\n"
      ],
      "metadata": {
        "id": "GvrS7mLcJRbh"
      },
      "execution_count": 25,
      "outputs": []
    },
    {
      "cell_type": "markdown",
      "source": [
        "there are three punt returns (above) with two people returning the ball (a backward pass must have happened). We exclude these as speed and acceleration have a lesser/different meaning in such a play."
      ],
      "metadata": {
        "id": "ICClLNeiROoM"
      }
    },
    {
      "cell_type": "code",
      "source": [
        "punt_return[punt_return['returnerId'].str.contains(';')]\n"
      ],
      "metadata": {
        "colab": {
          "base_uri": "https://localhost:8080/",
          "height": 143
        },
        "id": "LN3mL7RCJUzp",
        "outputId": "18c16235-cfae-48f5-905e-1faa958b4eec"
      },
      "execution_count": 26,
      "outputs": [
        {
          "output_type": "execute_result",
          "data": {
            "text/plain": [
              "           gameId  playId   returnerId  kickLength  kickReturnYardage  \\\n",
              "2394   2018101410    2172  44029;46130        49.0                0.0   \n",
              "11195  2019112408    3869  44923;45555        49.0               -4.0   \n",
              "16750  2020110810    1270  46277;42094        62.0                0.0   \n",
              "\n",
              "       playResult  penaltyYards  \n",
              "2394           57           0.0  \n",
              "11195          53           0.0  \n",
              "16750          -1          10.0  "
            ],
            "text/html": [
              "\n",
              "  <div id=\"df-a5304714-1f99-466a-86cb-7c9cdcd1d210\">\n",
              "    <div class=\"colab-df-container\">\n",
              "      <div>\n",
              "<style scoped>\n",
              "    .dataframe tbody tr th:only-of-type {\n",
              "        vertical-align: middle;\n",
              "    }\n",
              "\n",
              "    .dataframe tbody tr th {\n",
              "        vertical-align: top;\n",
              "    }\n",
              "\n",
              "    .dataframe thead th {\n",
              "        text-align: right;\n",
              "    }\n",
              "</style>\n",
              "<table border=\"1\" class=\"dataframe\">\n",
              "  <thead>\n",
              "    <tr style=\"text-align: right;\">\n",
              "      <th></th>\n",
              "      <th>gameId</th>\n",
              "      <th>playId</th>\n",
              "      <th>returnerId</th>\n",
              "      <th>kickLength</th>\n",
              "      <th>kickReturnYardage</th>\n",
              "      <th>playResult</th>\n",
              "      <th>penaltyYards</th>\n",
              "    </tr>\n",
              "  </thead>\n",
              "  <tbody>\n",
              "    <tr>\n",
              "      <th>2394</th>\n",
              "      <td>2018101410</td>\n",
              "      <td>2172</td>\n",
              "      <td>44029;46130</td>\n",
              "      <td>49.0</td>\n",
              "      <td>0.0</td>\n",
              "      <td>57</td>\n",
              "      <td>0.0</td>\n",
              "    </tr>\n",
              "    <tr>\n",
              "      <th>11195</th>\n",
              "      <td>2019112408</td>\n",
              "      <td>3869</td>\n",
              "      <td>44923;45555</td>\n",
              "      <td>49.0</td>\n",
              "      <td>-4.0</td>\n",
              "      <td>53</td>\n",
              "      <td>0.0</td>\n",
              "    </tr>\n",
              "    <tr>\n",
              "      <th>16750</th>\n",
              "      <td>2020110810</td>\n",
              "      <td>1270</td>\n",
              "      <td>46277;42094</td>\n",
              "      <td>62.0</td>\n",
              "      <td>0.0</td>\n",
              "      <td>-1</td>\n",
              "      <td>10.0</td>\n",
              "    </tr>\n",
              "  </tbody>\n",
              "</table>\n",
              "</div>\n",
              "      <button class=\"colab-df-convert\" onclick=\"convertToInteractive('df-a5304714-1f99-466a-86cb-7c9cdcd1d210')\"\n",
              "              title=\"Convert this dataframe to an interactive table.\"\n",
              "              style=\"display:none;\">\n",
              "        \n",
              "  <svg xmlns=\"http://www.w3.org/2000/svg\" height=\"24px\"viewBox=\"0 0 24 24\"\n",
              "       width=\"24px\">\n",
              "    <path d=\"M0 0h24v24H0V0z\" fill=\"none\"/>\n",
              "    <path d=\"M18.56 5.44l.94 2.06.94-2.06 2.06-.94-2.06-.94-.94-2.06-.94 2.06-2.06.94zm-11 1L8.5 8.5l.94-2.06 2.06-.94-2.06-.94L8.5 2.5l-.94 2.06-2.06.94zm10 10l.94 2.06.94-2.06 2.06-.94-2.06-.94-.94-2.06-.94 2.06-2.06.94z\"/><path d=\"M17.41 7.96l-1.37-1.37c-.4-.4-.92-.59-1.43-.59-.52 0-1.04.2-1.43.59L10.3 9.45l-7.72 7.72c-.78.78-.78 2.05 0 2.83L4 21.41c.39.39.9.59 1.41.59.51 0 1.02-.2 1.41-.59l7.78-7.78 2.81-2.81c.8-.78.8-2.07 0-2.86zM5.41 20L4 18.59l7.72-7.72 1.47 1.35L5.41 20z\"/>\n",
              "  </svg>\n",
              "      </button>\n",
              "      \n",
              "  <style>\n",
              "    .colab-df-container {\n",
              "      display:flex;\n",
              "      flex-wrap:wrap;\n",
              "      gap: 12px;\n",
              "    }\n",
              "\n",
              "    .colab-df-convert {\n",
              "      background-color: #E8F0FE;\n",
              "      border: none;\n",
              "      border-radius: 50%;\n",
              "      cursor: pointer;\n",
              "      display: none;\n",
              "      fill: #1967D2;\n",
              "      height: 32px;\n",
              "      padding: 0 0 0 0;\n",
              "      width: 32px;\n",
              "    }\n",
              "\n",
              "    .colab-df-convert:hover {\n",
              "      background-color: #E2EBFA;\n",
              "      box-shadow: 0px 1px 2px rgba(60, 64, 67, 0.3), 0px 1px 3px 1px rgba(60, 64, 67, 0.15);\n",
              "      fill: #174EA6;\n",
              "    }\n",
              "\n",
              "    [theme=dark] .colab-df-convert {\n",
              "      background-color: #3B4455;\n",
              "      fill: #D2E3FC;\n",
              "    }\n",
              "\n",
              "    [theme=dark] .colab-df-convert:hover {\n",
              "      background-color: #434B5C;\n",
              "      box-shadow: 0px 1px 3px 1px rgba(0, 0, 0, 0.15);\n",
              "      filter: drop-shadow(0px 1px 2px rgba(0, 0, 0, 0.3));\n",
              "      fill: #FFFFFF;\n",
              "    }\n",
              "  </style>\n",
              "\n",
              "      <script>\n",
              "        const buttonEl =\n",
              "          document.querySelector('#df-a5304714-1f99-466a-86cb-7c9cdcd1d210 button.colab-df-convert');\n",
              "        buttonEl.style.display =\n",
              "          google.colab.kernel.accessAllowed ? 'block' : 'none';\n",
              "\n",
              "        async function convertToInteractive(key) {\n",
              "          const element = document.querySelector('#df-a5304714-1f99-466a-86cb-7c9cdcd1d210');\n",
              "          const dataTable =\n",
              "            await google.colab.kernel.invokeFunction('convertToInteractive',\n",
              "                                                     [key], {});\n",
              "          if (!dataTable) return;\n",
              "\n",
              "          const docLinkHtml = 'Like what you see? Visit the ' +\n",
              "            '<a target=\"_blank\" href=https://colab.research.google.com/notebooks/data_table.ipynb>data table notebook</a>'\n",
              "            + ' to learn more about interactive tables.';\n",
              "          element.innerHTML = '';\n",
              "          dataTable['output_type'] = 'display_data';\n",
              "          await google.colab.output.renderOutput(dataTable, element);\n",
              "          const docLink = document.createElement('div');\n",
              "          docLink.innerHTML = docLinkHtml;\n",
              "          element.appendChild(docLink);\n",
              "        }\n",
              "      </script>\n",
              "    </div>\n",
              "  </div>\n",
              "  "
            ]
          },
          "metadata": {},
          "execution_count": 26
        }
      ]
    },
    {
      "cell_type": "code",
      "source": [
        "punt_return = punt_return[~punt_return['returnerId'].str.contains(';')]"
      ],
      "metadata": {
        "id": "ZbYuQR30JZ0Q"
      },
      "execution_count": 27,
      "outputs": []
    },
    {
      "cell_type": "markdown",
      "source": [
        "make sure returnerId is a float as nflId in our tracking data set will also be a float."
      ],
      "metadata": {
        "id": "aHxNkIXkRVQ7"
      }
    },
    {
      "cell_type": "code",
      "source": [
        "punt_return['returnerId'] = punt_return['returnerId'].astype(float)"
      ],
      "metadata": {
        "id": "Pluor_P3JdBk"
      },
      "execution_count": 28,
      "outputs": []
    },
    {
      "cell_type": "markdown",
      "source": [
        "Tracking Data set"
      ],
      "metadata": {
        "id": "3yEialLERYqO"
      }
    },
    {
      "cell_type": "code",
      "source": [
        "playIds = punt_return['playId'].unique()\n",
        "gameIds = punt_return['gameId'].unique()\n",
        "tracking2018 = tracking2018[(tracking2018.playId.isin(playIds)) & (tracking2018.gameId.isin(gameIds))]\n",
        "tracking2019 = tracking2019[(tracking2019.playId.isin(playIds)) & (tracking2019.gameId.isin(gameIds))]\n",
        "tracking2020 = tracking2020[(tracking2020.playId.isin(playIds)) & (tracking2020.gameId.isin(gameIds))]\n"
      ],
      "metadata": {
        "id": "YMzRw0r2Jfyy"
      },
      "execution_count": 29,
      "outputs": []
    },
    {
      "cell_type": "markdown",
      "source": [
        "we will examine the tracking data set and the columns needed for our research, but first we combine them."
      ],
      "metadata": {
        "id": "gsTwRIKYRci7"
      }
    },
    {
      "cell_type": "code",
      "source": [
        "tracking = tracking2018.append(tracking2019).append(tracking2020)\n",
        "tracking = tracking[['s', 'a', 'nflId', 'gameId','playId', 'frameId', 'event']]\n",
        "((tracking.isna().sum())/tracking.shape[0]).sort_values()"
      ],
      "metadata": {
        "colab": {
          "base_uri": "https://localhost:8080/"
        },
        "id": "eNYfku8jJlRH",
        "outputId": "989587bd-a199-48d6-ec9a-fe2a3e783e10"
      },
      "execution_count": 30,
      "outputs": [
        {
          "output_type": "execute_result",
          "data": {
            "text/plain": [
              "s          0.000000\n",
              "a          0.000000\n",
              "gameId     0.000000\n",
              "playId     0.000000\n",
              "frameId    0.000000\n",
              "event      0.000000\n",
              "nflId      0.043478\n",
              "dtype: float64"
            ]
          },
          "metadata": {},
          "execution_count": 30
        }
      ]
    }
  ]
}